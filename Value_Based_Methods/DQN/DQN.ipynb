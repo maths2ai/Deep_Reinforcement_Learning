{
 "cells": [
  {
   "cell_type": "markdown",
   "metadata": {},
   "source": [
    "# DQN"
   ]
  },
  {
   "cell_type": "code",
   "execution_count": 1,
   "metadata": {},
   "outputs": [],
   "source": [
    "# Importing section\n",
    "\n",
    "import gym\n",
    "import random\n",
    "import torch\n",
    "import numpy as np\n",
    "import matplotlib.pyplot as plt\n",
    "import torch.optim as optim\n",
    "\n",
    "from matplotlib.animation import FuncAnimation\n",
    "from IPython.display import Video\n",
    "from collections import deque"
   ]
  },
  {
   "cell_type": "code",
   "execution_count": 2,
   "metadata": {},
   "outputs": [
    {
     "name": "stdout",
     "output_type": "stream",
     "text": [
      "State shape:  (128,)\n",
      "Number of actions:  18\n"
     ]
    },
    {
     "data": {
      "text/plain": [
       "['NOOP',\n",
       " 'FIRE',\n",
       " 'UP',\n",
       " 'RIGHT',\n",
       " 'LEFT',\n",
       " 'DOWN',\n",
       " 'UPRIGHT',\n",
       " 'UPLEFT',\n",
       " 'DOWNRIGHT',\n",
       " 'DOWNLEFT',\n",
       " 'UPFIRE',\n",
       " 'RIGHTFIRE',\n",
       " 'LEFTFIRE',\n",
       " 'DOWNFIRE',\n",
       " 'UPRIGHTFIRE',\n",
       " 'UPLEFTFIRE',\n",
       " 'DOWNRIGHTFIRE',\n",
       " 'DOWNLEFTFIRE']"
      ]
     },
     "execution_count": 2,
     "metadata": {},
     "output_type": "execute_result"
    }
   ],
   "source": [
    "# Initialiting the environment\n",
    "\n",
    "env = gym.make('BattleZone-ram-v0')\n",
    "env.seed(0)\n",
    "print('State shape: ', env.observation_space.shape)\n",
    "print('Number of actions: ', env.action_space.n)\n",
    "env.unwrapped.get_action_meanings()"
   ]
  },
  {
   "cell_type": "code",
   "execution_count": 3,
   "metadata": {},
   "outputs": [],
   "source": [
    "# Instantiating the agent\n",
    "\n",
    "from dqn_agent import Agent\n",
    "\n",
    "agent = Agent(env, state_space_dim=128, action_space_dim=4, seed=0)"
   ]
  },
  {
   "cell_type": "code",
   "execution_count": 4,
   "metadata": {},
   "outputs": [
    {
     "data": {
      "text/html": [
       "<video src=\"video Test.mp4\" controls  >\n",
       "      Your browser does not support the <code>video</code> element.\n",
       "    </video>"
      ],
      "text/plain": [
       "<IPython.core.display.Video object>"
      ]
     },
     "execution_count": 4,
     "metadata": {},
     "output_type": "execute_result"
    },
    {
     "data": {
      "image/png": "[encoded data removed]",
      "text/plain": [
       "<Figure size 432x288 with 1 Axes>"
      ]
     },
     "metadata": {
      "needs_background": "light"
     },
     "output_type": "display_data"
    }
   ],
   "source": [
    "# Random sequence\n",
    "\n",
    "sequenza = agent.play()\n",
    "patch = plt.imshow(sequenza[0], cmap=None)  \n",
    "animation = FuncAnimation(plt.gcf(), lambda x:patch.set_data(sequenza[x]), frames = len(sequenza), interval = 20)\n",
    "animation.save('video Test.mp4')\n",
    "Video(\"video Test.mp4\")"
   ]
  },
  {
   "cell_type": "code",
   "execution_count": 5,
   "metadata": {},
   "outputs": [],
   "source": [
    "# DQN Algorithm\n",
    "\n",
    "def dqn (env, Agent, n_episodes = 20000, n_steps_episodes = 10000, eps_start = 1.0, eps_end = 0.01, eps_decay = 0.995):\n",
    "    \n",
    "    scores = [] # List of scores for plotting\n",
    "    scores_deq = deque(maxlen = 100) # Deque useful to compute\n",
    "    eps = eps_start\n",
    "    \n",
    "    for episode in range(1, n_episodes+1):\n",
    "        \n",
    "        state = env.reset()\n",
    "        score = 0\n",
    "        \n",
    "        for step in range(1, n_steps_episodes + 1):\n",
    "            \n",
    "            action = Agent.act(state, eps)\n",
    "            next_state, reward, is_done, info = env.step(action)\n",
    "            Agent.Step(state, action, reward, next_state, is_done)\n",
    "            state = next_state\n",
    "            score += reward\n",
    "            \n",
    "            if is_done:\n",
    "                break\n",
    "                \n",
    "        scores_deq.append(score)\n",
    "        scores.append(score)\n",
    "        eps = max(eps_end, eps*eps_decay)\n",
    "        \n",
    "        \n",
    "        print('\\rEpisode {}\\tAverage Score: {:.2f}'.format(episode, np.mean(scores_deq)), end=\"\")\n",
    "        \n",
    "        if episode % 500 == 0:\n",
    "            print('\\rEpisode {}\\tAverage Score: {:.2f}'.format(episode, np.mean(scores_deq)))\n",
    "            sequenza = Agent.play()\n",
    "            patch = plt.imshow(sequenza[0], cmap=None)  \n",
    "            animation = FuncAnimation(plt.gcf(), lambda x:patch.set_data(sequenza[x]), frames = len(sequenza), interval = 20)\n",
    "            animation.save('video {}.mp4'.format(episode))\n",
    "                     \n",
    "        if np.mean(scores_deq)>=80000:\n",
    "            print('\\nEnvironment solved in {:d} episodes!\\tAverage Score: {:.2f}'.format(episode-100, np.mean(scores_deq)))\n",
    "            torch.save(Agent.Q_network.state_dict(), 'checkpoint.pth')\n",
    "            sequenza = Agent.play()\n",
    "            patch = plt.imshow(sequenza[0], cmap=None)  \n",
    "            animation = FuncAnimation(plt.gcf(), lambda x:patch.set_data(sequenza[x]), frames = len(sequenza), interval = 20)\n",
    "            animation.save('video {}.mp4'.format(episode))\n",
    "            \n",
    "            break\n",
    "        \n",
    "        if episode == 2000:\n",
    "            print('Stopped after 2000 episodes')\n",
    "            break\n",
    "    \n",
    "    return scores          "
   ]
  },
  {
   "cell_type": "code",
   "execution_count": null,
   "metadata": {},
   "outputs": [],
   "source": [
    "scores = dqn(env, agent)"
   ]
  }
 ],
 "metadata": {
  "kernelspec": {
   "display_name": "Python 3",
   "language": "python",
   "name": "python3"
  },
  "language_info": {
   "codemirror_mode": {
    "name": "ipython",
    "version": 3
   },
   "file_extension": ".py",
   "mimetype": "text/x-python",
   "name": "python",
   "nbconvert_exporter": "python",
   "pygments_lexer": "ipython3",
   "version": "3.8.5"
  }
 },
 "nbformat": 4,
 "nbformat_minor": 4
}
