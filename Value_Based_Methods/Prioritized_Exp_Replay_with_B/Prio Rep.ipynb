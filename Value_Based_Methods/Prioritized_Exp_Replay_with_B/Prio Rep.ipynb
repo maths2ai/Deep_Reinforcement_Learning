{
 "cells": [
  {
   "cell_type": "markdown",
   "metadata": {},
   "source": [
    "# Introduction\n",
    "\n",
    "In this notebook, we present Prioritized Experience Replay. The idea of this algorithm is to sample more often tuples $(state, action, reward, next\\_ state, is\\_ done)$ where the bootstrap\n",
    "\n",
    "\n",
    "$$(1 - is\\_ done) * Q(next\\_ state, max\\_ action)*gamma + reward - Q(state, action)$$ is bigger.\n",
    "\n",
    "\n",
    "In this way, we investigate more often situations where we have more to learn. To mitigate the fact we do not sample uniformly anymore from our batches, we introduce weights so that we tend to give more weights to things we \"see less often\" during the backpropagation step."
   ]
  },
  {
   "cell_type": "markdown",
   "metadata": {},
   "source": [
    "## Importing Section"
   ]
  },
  {
   "cell_type": "code",
   "execution_count": 1,
   "metadata": {},
   "outputs": [],
   "source": [
    "import torch\n",
    "import torch.nn as nn \n",
    "import torch.nn.functional as F\n",
    "import torch.optim as optim\n",
    "\n",
    "import numpy as np\n",
    "import matplotlib.pyplot as plt\n",
    "import math, random\n",
    "\n",
    "import gym\n",
    "\n",
    "from IPython.display import clear_output\n",
    "from collections import deque\n",
    "from wrap import make_atari, wrap_deepmind, wrap_pytorch"
   ]
  },
  {
   "cell_type": "code",
   "execution_count": 2,
   "metadata": {},
   "outputs": [],
   "source": [
    "env_id = \"PongNoFrameskip-v4\"\n",
    "env    = make_atari(env_id)\n",
    "env    = wrap_deepmind(env)\n",
    "env    = wrap_pytorch(env)\n",
    "env    = gym.wrappers.Monitor(env, \"./vid\" , video_callable=lambda episode_id: (episode_id+1)%10==0, force = True)"
   ]
  },
  {
   "cell_type": "markdown",
   "metadata": {},
   "source": [
    "## Device Selection"
   ]
  },
  {
   "cell_type": "code",
   "execution_count": 3,
   "metadata": {},
   "outputs": [
    {
     "data": {
      "text/plain": [
       "device(type='cuda', index=0)"
      ]
     },
     "execution_count": 3,
     "metadata": {},
     "output_type": "execute_result"
    }
   ],
   "source": [
    "device = torch.device('cuda:0' if torch.cuda.is_available() else 'cpu')\n",
    "device"
   ]
  },
  {
   "cell_type": "markdown",
   "metadata": {},
   "source": [
    "## Prio Buffer"
   ]
  },
  {
   "cell_type": "code",
   "execution_count": 4,
   "metadata": {},
   "outputs": [],
   "source": [
    "class Buffer():\n",
    "    def __init__(self, capacity, batch_size, alpha_prob = 0.6):\n",
    "        self.capacity = capacity\n",
    "        self.alpha_prob = alpha_prob\n",
    "        self.batch_size = batch_size\n",
    "        self.buffer = []\n",
    "        self.priorities = np.zeros(self.capacity, dtype = np.float32)\n",
    "        self.pos = 0\n",
    "        \n",
    "    def push(self, state, action, reward, next_state, is_done):\n",
    "        state = np.expand_dims(state, axis = 0)\n",
    "        next_state = np.expand_dims(next_state, axis = 0)\n",
    "        \n",
    "        max_prio = 1.0 if len(self.buffer) == 0 else self.priorities.max()\n",
    "        # PRINTARE MAX_PRIO\n",
    "        \n",
    "        if len(self.buffer) < self.capacity:\n",
    "            self.buffer.append((state, action, reward, next_state, is_done))\n",
    "            self.priorities[self.pos] = max_prio\n",
    "        else:\n",
    "            self.buffer[self.pos] = (state, action, reward, next_state, is_done)\n",
    "            self.priorities[self.pos] = max_prio\n",
    "            \n",
    "        self.pos = (self.pos + 1)%self.capacity\n",
    "        \n",
    "    def sample(self, beta = 0.4): \n",
    "        if len(self.buffer) == self.capacity:\n",
    "            prios = self.priorities\n",
    "        else:\n",
    "            prios = self.priorities[:self.pos]\n",
    "            \n",
    "        probs = prios ** self.alpha_prob\n",
    "        probs = probs/probs.sum()\n",
    "        \n",
    "        indices = np.random.choice(len(self.buffer), self.batch_size, p = probs)\n",
    "        # selecting elements\n",
    "        sample = [self.buffer[idx] for idx in indices]\n",
    "        \n",
    "        states, actions, rewards, next_states, is_dones = zip(*sample)\n",
    "        states = np.concatenate(states)\n",
    "        next_states = np.concatenate(next_states)\n",
    "        \n",
    "        weights = (len(self.buffer) * probs[indices]) ** (-beta)\n",
    "        weights = weights/weights.max()\n",
    "        weights = np.asarray(weights, dtype = np.float32)\n",
    "        \n",
    "        return states, actions, rewards, next_states, is_dones, weights, indices\n",
    "    \n",
    "    def update_priorities(self, indices, new_prios):\n",
    "        for idx, new_prio in zip(indices, new_prios):\n",
    "            self.priorities[idx] = new_prio\n",
    "            \n",
    "    def __len__(self):\n",
    "        return len(self.buffer)"
   ]
  },
  {
   "cell_type": "markdown",
   "metadata": {},
   "source": [
    "## Epsilon Decay"
   ]
  },
  {
   "cell_type": "code",
   "execution_count": 5,
   "metadata": {},
   "outputs": [],
   "source": [
    "def epsilon_decay_f(iteration, epsilon_init = 1.0, epsilon_final = 0.1, decay_every = 30000):\n",
    "    epsilon = epsilon_final - (epsilon_final - epsilon_init) * math.exp((-1.0 * iteration)/decay_every)\n",
    "    return epsilon"
   ]
  },
  {
   "cell_type": "markdown",
   "metadata": {},
   "source": [
    "## Beta \n",
    "(For calibrating importance sampling during backprop)"
   ]
  },
  {
   "cell_type": "code",
   "execution_count": 6,
   "metadata": {},
   "outputs": [],
   "source": [
    "def beta_decay_f(iteration, beta_init = 0.4, stop_after = 100000):\n",
    "    beta = min(1.0, beta_init + iteration * (1.0 - beta_init)/stop_after)\n",
    "    return beta"
   ]
  },
  {
   "cell_type": "markdown",
   "metadata": {},
   "source": [
    "## Loss Function"
   ]
  },
  {
   "cell_type": "code",
   "execution_count": 7,
   "metadata": {},
   "outputs": [],
   "source": [
    "def Loss(agent, tg_agent, buffer, beta, device, optimizer):\n",
    "    states, actions, rewards, next_states, is_dones, weights, indices = buffer.sample(beta)\n",
    "    \n",
    "    states = torch.FloatTensor(states).to(device)\n",
    "    actions = torch.LongTensor(actions).to(device)\n",
    "    next_states = torch.FloatTensor(next_states).to(device)\n",
    "    rewards = torch.FloatTensor(rewards).to(device)\n",
    "    is_dones = torch.FloatTensor(is_dones).to(device)\n",
    "    \n",
    "    weights = torch.FloatTensor(weights).to(device)\n",
    "    \n",
    "    next_Q_values = tg_agent(next_states).max(1)[0]\n",
    "    \n",
    "    Q_values = agent(states).gather(1, actions.unsqueeze(1)).squeeze(1)\n",
    "    \n",
    "    bootstrap = rewards + 0.99 * next_Q_values * (1.0 - is_dones)\n",
    "    \n",
    "    loss = (bootstrap.detach() - Q_values).pow(2) * weights\n",
    "    new_prios = loss + 1e-5 # To avoid never sampling some stuff\n",
    "    loss = loss.mean()   \n",
    "    \n",
    "    optimizer.zero_grad()\n",
    "    loss.backward()\n",
    "    optimizer.step()\n",
    "    \n",
    "    buffer.update_priorities(indices, new_prios)\n",
    "    \n",
    "    return loss"
   ]
  },
  {
   "cell_type": "markdown",
   "metadata": {},
   "source": [
    "## Update Functon"
   ]
  },
  {
   "cell_type": "code",
   "execution_count": 8,
   "metadata": {},
   "outputs": [],
   "source": [
    "def update(current_model, target_model):\n",
    "    target_model.load_state_dict(current_model.state_dict())"
   ]
  },
  {
   "cell_type": "markdown",
   "metadata": {},
   "source": [
    "## Agent"
   ]
  },
  {
   "cell_type": "code",
   "execution_count": 9,
   "metadata": {},
   "outputs": [],
   "source": [
    "class Agent(nn.Module):\n",
    "    def __init__(self, obs_space, action_space, device):\n",
    "        super(Agent, self).__init__()\n",
    "        self.obs_space = obs_space\n",
    "        self.action_space = action_space\n",
    "        self.num_channels_in = self.obs_space[0]\n",
    "        self.device = device\n",
    "        \n",
    "        self.img_extractor = nn.Sequential(\n",
    "            nn.Conv2d(self.num_channels_in, 32, kernel_size = 8, stride = 4),\n",
    "            nn.ReLU(),\n",
    "            nn.Conv2d(32, 64, kernel_size = 4, stride = 2),\n",
    "            nn.ReLU(),\n",
    "            nn.Conv2d(64, 64, kernel_size = 3, stride = 1), \n",
    "            nn.ReLU())\n",
    "        \n",
    "        self.fc = nn.Sequential(\n",
    "            nn.Linear(self.get_size_after_img_ext(), 512),\n",
    "            nn.ReLU(),\n",
    "            nn.Linear(512, self.action_space))\n",
    "        \n",
    "    def forward(self, state):\n",
    "        state = self.img_extractor(state)\n",
    "        state = state.view(state.size(0), -1)\n",
    "        output = self.fc(state)\n",
    "        return output\n",
    "        \n",
    "    def get_size_after_img_ext(self):\n",
    "        example_img = torch.zeros(1, *self.obs_space)\n",
    "        shape_after_img_ext = self.img_extractor(example_img)\n",
    "        #print(shape_after_img_ext.size())\n",
    "        size_after_img_ext = np.prod(shape_after_img_ext.size())\n",
    "        return size_after_img_ext\n",
    "    \n",
    "    def act(self, state, epsilon):\n",
    "        if random.random()<epsilon:\n",
    "            action = random.randrange(self.action_space)\n",
    "        else:\n",
    "            state = torch.FloatTensor(state).unsqueeze(0).to(self.device)       \n",
    "            q_value = self.forward(state)\n",
    "            action = q_value.max(1)[1].cpu().numpy()[0]\n",
    "            #print(action.shape)\n",
    "            #print(action)\n",
    "        return action\n",
    "    \n",
    "    def play(self, state):\n",
    "        # Playing greedy\n",
    "        \n",
    "        while True:\n",
    "            state = torch.FloatTensor(state).unsqueeze(0).to(device)\n",
    "            output = self.forward(state)\n",
    "            action = output.max(1)[1].detach().cpu().numpy()[0]\n",
    "            next_state, reward, is_done, _ = env.step(action)\n",
    "            \n",
    "            if is_done == True:\n",
    "                break"
   ]
  },
  {
   "cell_type": "markdown",
   "metadata": {},
   "source": [
    "## Plotting"
   ]
  },
  {
   "cell_type": "code",
   "execution_count": 10,
   "metadata": {},
   "outputs": [],
   "source": [
    "def plot(frame_idx, rewards, losses):\n",
    "    clear_output(True)\n",
    "    plt.figure(figsize = (20, 5))\n",
    "    plt.subplot(131)\n",
    "    plt.title('frame: %s. rewards: %s.'%(frame_idx, np.mean(rewards[-10:])))\n",
    "    plt.plot(rewards)\n",
    "    plt.subplot(132)\n",
    "    plt.title('loss')\n",
    "    plt.plot(losses)\n",
    "    plt.show()"
   ]
  },
  {
   "cell_type": "code",
   "execution_count": 11,
   "metadata": {},
   "outputs": [],
   "source": [
    "# Instatiating objects\n",
    "\n",
    "agent = Agent(env.observation_space.shape, env.action_space.n, device).to(device)\n",
    "tg_agent = Agent(env.observation_space.shape, env.action_space.n, device).to(device)\n",
    "update(agent, tg_agent)\n",
    "optimizer = optim.Adam(agent.parameters(), lr = 0.0001)\n",
    "\n",
    "capacity = 100000\n",
    "\n",
    "batch_size = 32\n",
    "num_episodes = 350\n",
    "\n",
    "buffer = Buffer(capacity, batch_size)\n",
    "\n",
    "plot_every = 200\n",
    "update_net_every = 1000"
   ]
  },
  {
   "cell_type": "code",
   "execution_count": 12,
   "metadata": {},
   "outputs": [],
   "source": [
    "def training ( agent, tg_agent, buffer, env, device, num_episodes, batch_size, plot_every, update_net_every ):\n",
    "    losses = []\n",
    "    episodes_rewards = []\n",
    "    episode_rew = 0\n",
    "    ep = 1\n",
    "    \n",
    "    state = env.reset()\n",
    "    num_iterations = 0 # Useful for epsilon_decay\n",
    "    \n",
    "    while ep <= num_episodes:\n",
    "        epsilon = epsilon_decay_f(num_iterations)\n",
    "        action = agent.act(state, epsilon) \n",
    "        \n",
    "        next_state, reward, is_done, _ = env.step(action)\n",
    "        buffer.push(state, action, reward, next_state, is_done)\n",
    "        \n",
    "        episode_rew += reward\n",
    "        state = next_state\n",
    "        num_iterations += 1\n",
    "        \n",
    "        if is_done == True:\n",
    "            #print(episode_rew)\n",
    "            episodes_rewards.append(episode_rew)\n",
    "            episode_rew = 0\n",
    "            ep += 1\n",
    "            state = env.reset()\n",
    "        \n",
    "        if len(buffer) > 100:\n",
    "            beta = beta_decay_f(num_iterations)\n",
    "            loss = Loss(agent, tg_agent, buffer, beta, device, optimizer)\n",
    "            losses.append(loss)\n",
    "            \n",
    "        if num_iterations % plot_every == 0:\n",
    "            #print(num_iterations)\n",
    "            plot(num_iterations, episodes_rewards, losses)\n",
    "            \n",
    "        if num_iterations % update_net_every == 0:\n",
    "            #print('UPDATE')\n",
    "            update(agent, tg_agent)"
   ]
  },
  {
   "cell_type": "code",
   "execution_count": 13,
   "metadata": {},
   "outputs": [
    {
     "data": {
      "image/png": "[encoded data removed]",
      "text/plain": [
       "<Figure size 1440x360 with 2 Axes>"
      ]
     },
     "metadata": {
      "needs_background": "light"
     },
     "output_type": "display_data"
    }
   ],
   "source": [
    "training(agent, tg_agent, buffer, env, device, num_episodes, batch_size, plot_every, update_net_every)"
   ]
  },
  {
   "cell_type": "code",
   "execution_count": null,
   "metadata": {},
   "outputs": [],
   "source": []
  },
  {
   "cell_type": "code",
   "execution_count": null,
   "metadata": {},
   "outputs": [],
   "source": []
  }
 ],
 "metadata": {
  "kernelspec": {
   "display_name": "Python 3",
   "language": "python",
   "name": "python3"
  },
  "language_info": {
   "codemirror_mode": {
    "name": "ipython",
    "version": 3
   },
   "file_extension": ".py",
   "mimetype": "text/x-python",
   "name": "python",
   "nbconvert_exporter": "python",
   "pygments_lexer": "ipython3",
   "version": "3.8.5"
  }
 },
 "nbformat": 4,
 "nbformat_minor": 4
}
