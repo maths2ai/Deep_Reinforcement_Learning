{
 "cells": [
  {
   "cell_type": "markdown",
   "metadata": {},
   "source": [
    "# Introduction\n",
    "\n",
    "The idea of Rainbow is to glue together all the most classical DQN-extensions."
   ]
  },
  {
   "cell_type": "markdown",
   "metadata": {},
   "source": [
    "## Importing Section"
   ]
  },
  {
   "cell_type": "code",
   "execution_count": 1,
   "metadata": {},
   "outputs": [],
   "source": [
    "import torch\n",
    "import torch.nn as nn\n",
    "import torch.optim as optim\n",
    "import torch.nn.functional as F\n",
    "\n",
    "import math, random\n",
    "import numpy as np\n",
    "import matplotlib.pyplot as plt\n",
    "\n",
    "import gym\n",
    "\n",
    "from IPython.display import clear_output\n",
    "from wrap import make_atari, wrap_deepmind, wrap_pytorch\n",
    "from collections import deque"
   ]
  },
  {
   "cell_type": "code",
   "execution_count": 2,
   "metadata": {},
   "outputs": [],
   "source": [
    "env_id = \"PongNoFrameskip-v4\"\n",
    "env    = make_atari(env_id)\n",
    "env    = wrap_deepmind(env)\n",
    "env    = wrap_pytorch(env)\n",
    "env    = gym.wrappers.Monitor(env, \"./vid\" , video_callable=lambda episode_id: (episode_id+1)%10==0, force = True)"
   ]
  },
  {
   "cell_type": "markdown",
   "metadata": {},
   "source": [
    "## Device Selection"
   ]
  },
  {
   "cell_type": "code",
   "execution_count": 3,
   "metadata": {},
   "outputs": [
    {
     "data": {
      "text/plain": [
       "device(type='cuda', index=0)"
      ]
     },
     "execution_count": 3,
     "metadata": {},
     "output_type": "execute_result"
    }
   ],
   "source": [
    "device = torch.device('cuda:0' if torch.cuda.is_available else 'cpu')\n",
    "device"
   ]
  },
  {
   "cell_type": "markdown",
   "metadata": {},
   "source": [
    "## Noisy DQN Part"
   ]
  },
  {
   "cell_type": "code",
   "execution_count": 4,
   "metadata": {},
   "outputs": [],
   "source": [
    "class NoisyNet(nn.Module):\n",
    "    def __init__(self, in_features, out_features, std = 0.4):\n",
    "        super(NoisyNet, self).__init__()\n",
    "        self.in_features = in_features\n",
    "        self.out_features = out_features\n",
    "        self.std = std\n",
    "        \n",
    "        self.weights_mu = nn.Parameter(torch.FloatTensor(self.out_features, self.in_features))\n",
    "        self.weights_sigma = nn.Parameter(torch.FloatTensor(self.out_features, self.in_features))\n",
    "        self.register_buffer('weight_noise', torch.FloatTensor(self.out_features, self.in_features))\n",
    "        \n",
    "        self.bias_mu = nn.Parameter(torch.FloatTensor(self.out_features))\n",
    "        self.bias_sigma = nn.Parameter(torch.FloatTensor(self.out_features))\n",
    "        self.register_buffer('bias_noise', torch.FloatTensor(self.out_features))\n",
    "        \n",
    "        self.initialize_parameters()\n",
    "        self.reset_noise()\n",
    "        \n",
    "    def initialize_parameters(self):\n",
    "        alpha = math.sqrt(self.in_features)\n",
    "        mu_range = 1.0/alpha\n",
    "        \n",
    "        self.weights_mu.data.uniform_(-mu_range, mu_range)\n",
    "        self.weights_sigma.data.fill_(self.std/ alpha)\n",
    "        \n",
    "        self.bias_mu.data.uniform_(-mu_range, mu_range)\n",
    "        self.bias_sigma.data.fill_(self.std/ math.sqrt(self.out_features))\n",
    "        \n",
    "    def reset_noise(self):\n",
    "        noise_in = self._generate_noise(self.in_features)\n",
    "        noise_out = self._generate_noise(self.out_features)\n",
    "        \n",
    "        noise = noise_out.ger(noise_in)\n",
    "        self.weight_noise.copy_(noise)\n",
    "        self.bias_noise.copy_(self._generate_noise(self.out_features))\n",
    "    \n",
    "    def _generate_noise(self, size):\n",
    "        noise = torch.randn(size)\n",
    "        final_noise = noise.sign().mul(noise.abs().sqrt())\n",
    "        return noise \n",
    "    \n",
    "    def forward(self, state):\n",
    "        if self.training == True:\n",
    "            weight = self.weights_mu + self.weights_sigma.mul(self.weight_noise)\n",
    "            bias = self.bias_mu + self.bias_sigma.mul(self.bias_noise)           \n",
    "        else:\n",
    "            weight = self.weight_mu\n",
    "            bias = self.bias_mu\n",
    "            \n",
    "        return F.linear(state, weight, bias)"
   ]
  },
  {
   "cell_type": "markdown",
   "metadata": {},
   "source": [
    "## Prio-Replay-Buffer"
   ]
  },
  {
   "cell_type": "code",
   "execution_count": 5,
   "metadata": {},
   "outputs": [],
   "source": [
    "class Buffer():\n",
    "    def __init__(self, capacity, batch_size, alpha_prob = 0.6):\n",
    "        self.capacity = capacity\n",
    "        self.alpha_prob = alpha_prob\n",
    "        self.batch_size = batch_size\n",
    "        self.buffer = []\n",
    "        self.priorities = np.zeros(self.capacity, dtype = np.float32)\n",
    "        self.pos = 0\n",
    "        \n",
    "    def push(self, state, action, reward, next_state, is_done):\n",
    "        state = np.expand_dims(state, axis = 0)\n",
    "        next_state = np.expand_dims(next_state, axis = 0)\n",
    "        \n",
    "        max_prio = 1.0 if len(self.buffer) == 0 else self.priorities.max()\n",
    "        # PRINTARE MAX_PRIO\n",
    "        \n",
    "        if len(self.buffer) < self.capacity:\n",
    "            self.buffer.append((state, action, reward, next_state, is_done))\n",
    "            self.priorities[self.pos] = max_prio\n",
    "        else:\n",
    "            self.buffer[self.pos] = (state, action, reward, next_state, is_done)\n",
    "            self.priorities[self.pos] = max_prio\n",
    "            \n",
    "        self.pos = (self.pos + 1)%self.capacity\n",
    "        \n",
    "    def sample(self, beta = 0.4): \n",
    "        if len(self.buffer) == self.capacity:\n",
    "            prios = self.priorities\n",
    "        else:\n",
    "            prios = self.priorities[:self.pos]\n",
    "        \n",
    "        #print(prios)\n",
    "        probs = prios ** self.alpha_prob\n",
    "        probs = probs/probs.sum()\n",
    "        #print(probs)\n",
    "        indices = np.random.choice(len(self.buffer), self.batch_size, p = probs)\n",
    "        # selecting elements\n",
    "        sample = [self.buffer[idx] for idx in indices]\n",
    "        \n",
    "        states, actions, rewards, next_states, is_dones = zip(*sample)\n",
    "        states = np.concatenate(states)\n",
    "        next_states = np.concatenate(next_states)\n",
    "        \n",
    "        weights = (len(self.buffer) * probs[indices]) ** (-beta)\n",
    "        weights = weights/weights.max()\n",
    "        weights = np.asarray(weights, dtype = np.float32)\n",
    "        \n",
    "        return states, actions, rewards, next_states, is_dones, weights, indices\n",
    "    \n",
    "    def update_priorities(self, indices, new_prios):\n",
    "        for idx, new_prio in zip(indices, new_prios):\n",
    "            self.priorities[idx] = new_prio\n",
    "            \n",
    "    def __len__(self):\n",
    "        return len(self.buffer)"
   ]
  },
  {
   "cell_type": "markdown",
   "metadata": {},
   "source": [
    "## Beta Function for Experience Replay Buffer"
   ]
  },
  {
   "cell_type": "code",
   "execution_count": 6,
   "metadata": {},
   "outputs": [],
   "source": [
    "def beta_decay_f(iteration, beta_init = 0.4, stop_after = 100000):\n",
    "    beta = min(1.0, beta_init + iteration * (1.0 - beta_init)/stop_after)\n",
    "    return beta"
   ]
  },
  {
   "cell_type": "markdown",
   "metadata": {},
   "source": [
    "## Hyper-Parameters Related to the Distributional DQN part of the code"
   ]
  },
  {
   "cell_type": "code",
   "execution_count": 7,
   "metadata": {},
   "outputs": [],
   "source": [
    "V_min = -10\n",
    "V_max = 10\n",
    "num_atoms = 51"
   ]
  },
  {
   "cell_type": "markdown",
   "metadata": {},
   "source": [
    "## Distributional DQN Part"
   ]
  },
  {
   "cell_type": "code",
   "execution_count": 8,
   "metadata": {},
   "outputs": [],
   "source": [
    "def projection_distribution(next_states, rewards, is_dones, tg_agent, agent):\n",
    "    batch_size = next_states.size(0)\n",
    "    \n",
    "    delta_z = float(V_max - V_min)/(num_atoms - 1)\n",
    "    \n",
    "    # Here comes DDQN Part: We evaluate the action with\n",
    "    \n",
    "    support = torch.linspace(V_min, V_max, num_atoms).to(device)\n",
    "    next_dist = agent(next_states)\n",
    "    \n",
    "    DDQN_actions = next_dist*support\n",
    "    DDQN_action = DDQN_actions.sum(2).max(1)[1]\n",
    "    DDQN_action = DDQN_action.unsqueeze(1).unsqueeze(1).expand(DDQN_actions.size(0),1,DDQN_actions.size(2))\n",
    "    \n",
    "    next_dist = tg_agent(next_states)\n",
    "    next_dist = next_dist.gather(1, DDQN_action).squeeze(1)\n",
    "    \n",
    "    rewards = rewards.unsqueeze(1).expand_as(next_dist)\n",
    "    is_dones = is_dones.unsqueeze(1).expand_as(next_dist)\n",
    "    support = support.unsqueeze(0).expand_as(next_dist)\n",
    "    #print(rewards.size())\n",
    "    #print(support.size())\n",
    "    Tz = rewards + (1.0 - is_dones) * 0.99 * support\n",
    "    #print('TZ', Tz.size())\n",
    "    Tz = Tz.clamp(min = V_min, max = V_max)\n",
    "    b = (Tz - V_min)/delta_z\n",
    "    #print(b)\n",
    "    #print('B', b.size())\n",
    "    l = b.floor().long()\n",
    "    u = b.ceil().long()\n",
    "    \n",
    "    offset = torch.linspace(0, (batch_size - 1) * num_atoms, batch_size).long().unsqueeze(1).expand(batch_size, num_atoms).to(device)\n",
    "    #print('OFFSET', offset.size())\n",
    "    proj_dist = torch.zeros(next_dist.size()).to(device)\n",
    "    proj_dist.view(-1).index_add_(0, (l + offset).view(-1), (next_dist * (u.float() - b)).view(-1))\n",
    "    proj_dist.view(-1).index_add_(0, (u + offset).view(-1), (next_dist * (b - l.float())).view(-1))\n",
    "    \n",
    "    return proj_dist\n",
    "    "
   ]
  },
  {
   "cell_type": "markdown",
   "metadata": {},
   "source": [
    "## Loss Function"
   ]
  },
  {
   "cell_type": "code",
   "execution_count": 9,
   "metadata": {},
   "outputs": [],
   "source": [
    "def Loss(agent, tg_agent, buffer, beta, device, optimizer):\n",
    "    states, actions, rewards, next_states, is_dones, weights, indices = buffer.sample(beta)\n",
    "    \n",
    "    states = torch.FloatTensor(states).to(device)\n",
    "    actions = torch.LongTensor(actions).to(device)\n",
    "    next_states = torch.FloatTensor(next_states).to(device)\n",
    "    rewards = torch.FloatTensor(rewards).to(device)\n",
    "    is_dones = torch.FloatTensor(is_dones).to(device)\n",
    "    \n",
    "    weights = torch.FloatTensor(weights).to(device)\n",
    "    \n",
    "    proj_dist = projection_distribution(next_states, rewards, is_dones, tg_agent, agent)\n",
    "    dist = agent(states)\n",
    "    actions = actions.unsqueeze(1).unsqueeze(1).expand(batch_size, 1, num_atoms)\n",
    "    dist = dist.gather(1, actions).squeeze(1)\n",
    "    dist.data.clamp_(0.01, 0.99)\n",
    "    \n",
    "    loss = -(proj_dist.detach() * dist.log()).sum(1)\n",
    "    new_prios = (loss + 1e-5).pow(2)\n",
    "    loss = loss.mean()\n",
    "    \n",
    "    optimizer.zero_grad()\n",
    "    loss.backward()\n",
    "    optimizer.step()\n",
    "    \n",
    "    buffer.update_priorities(indices, new_prios.data.cpu().numpy())\n",
    "    \n",
    "    return loss"
   ]
  },
  {
   "cell_type": "markdown",
   "metadata": {},
   "source": [
    "## Update Target"
   ]
  },
  {
   "cell_type": "code",
   "execution_count": 10,
   "metadata": {},
   "outputs": [],
   "source": [
    "def update(current_model, target_model):\n",
    "    target_model.load_state_dict(current_model.state_dict())"
   ]
  },
  {
   "cell_type": "markdown",
   "metadata": {},
   "source": [
    "## Plotting"
   ]
  },
  {
   "cell_type": "code",
   "execution_count": 11,
   "metadata": {},
   "outputs": [],
   "source": [
    "def plot(frame_idx, rewards, losses):\n",
    "    clear_output(True)\n",
    "    plt.figure(figsize=(20,5))\n",
    "    plt.subplot(131)\n",
    "    plt.title('frame %s. reward: %s' % (frame_idx, np.mean(rewards[-10:])))\n",
    "    plt.plot(rewards)\n",
    "    plt.subplot(132)\n",
    "    plt.title('loss')\n",
    "    plt.plot(losses)\n",
    "    plt.show()"
   ]
  },
  {
   "cell_type": "markdown",
   "metadata": {},
   "source": [
    "## Agent"
   ]
  },
  {
   "cell_type": "code",
   "execution_count": 12,
   "metadata": {},
   "outputs": [],
   "source": [
    "class Agent(nn.Module):\n",
    "    def __init__(self, observation_space, action_space, num_atoms, Vmin, Vmax, device):\n",
    "        super(Agent, self).__init__()\n",
    "        self.observation_space = observation_space\n",
    "        self.action_space = action_space\n",
    "        self.num_atoms = num_atoms\n",
    "        self.Vmin = Vmin\n",
    "        self.Vmax = Vmax\n",
    "        self.device = device\n",
    "        \n",
    "        self.feat_extractor = nn.Sequential(\n",
    "            nn.Conv2d(self.observation_space[0], 32, kernel_size = 8, stride = 4),\n",
    "            nn.ReLU(),\n",
    "            nn.Conv2d(32, 64, kernel_size = 4, stride = 2),\n",
    "            nn.ReLU(),\n",
    "            nn.Conv2d(64, 64, kernel_size = 3, stride = 1),\n",
    "            nn.ReLU())\n",
    "        \n",
    "        self.noisyvalue1 = NoisyNet(self.get_size_img(), 512)\n",
    "        self.noisyvalue2 = NoisyNet(512, self.num_atoms)\n",
    "        \n",
    "        self.noisyadvantage1 = NoisyNet(self.get_size_img(), 512)\n",
    "        self.noisyadvantage2 = NoisyNet(512, self.action_space*self.num_atoms)\n",
    "        \n",
    "    def get_size_img(self):\n",
    "        img_ex = torch.zeros(self.observation_space).unsqueeze(0)\n",
    "        size_tuple = self.feat_extractor(img_ex)\n",
    "        size = np.prod(size_tuple.size())\n",
    "        return size\n",
    "    \n",
    "    def reset_noise(self):\n",
    "        self.noisyvalue1.reset_noise()\n",
    "        self.noisyvalue2.reset_noise()\n",
    "        \n",
    "        self.noisyadvantage1.reset_noise()\n",
    "        self.noisyadvantage2.reset_noise()\n",
    "        \n",
    "    def forward(self,state):\n",
    "        batch_size = state.size(0)\n",
    "        state = state/255.0\n",
    "        state = self.feat_extractor(state)\n",
    "        state = state.view(batch_size, -1)\n",
    "        \n",
    "        value = F.relu(self.noisyvalue1(state))\n",
    "        value = self.noisyvalue2(value).view(batch_size, 1, self.num_atoms)\n",
    "        \n",
    "        advantage = F.relu(self.noisyadvantage1(state))\n",
    "        advantage = self.noisyadvantage2(advantage).view(batch_size, self.action_space, self.num_atoms)\n",
    "        \n",
    "        # Prossimo elemento c'e' da fare un check perche' non capisco dove sta facendo la media\n",
    "        output = value + advantage - advantage.mean(1, keepdim = True)\n",
    "        output = F.softmax(output.view(batch_size*self.action_space, -1)).view(batch_size, self.action_space, self.num_atoms)\n",
    "        \n",
    "        return output\n",
    "    \n",
    "    def act(self, state):\n",
    "        state = torch.FloatTensor(state).unsqueeze(0).to(self.device)\n",
    "        output = self.forward(state)\n",
    "        values = torch.linspace(self.Vmin, self.Vmax, self.num_atoms).to(self.device)\n",
    "        weights = output*values\n",
    "        action = weights.sum(2).max(1)[1].detach().cpu().numpy()[0]\n",
    "        return action"
   ]
  },
  {
   "cell_type": "markdown",
   "metadata": {},
   "source": [
    "## Training Function"
   ]
  },
  {
   "cell_type": "code",
   "execution_count": 13,
   "metadata": {},
   "outputs": [],
   "source": [
    "def training ( agent, tg_agent, buffer, env, device, num_episodes, batch_size, plot_every, update_net_every ):\n",
    "    losses = []\n",
    "    episodes_rewards = []\n",
    "    episode_rew = 0\n",
    "    ep = 1\n",
    "    \n",
    "    state = env.reset()\n",
    "    num_iterations = 0 # Useful for epsilon_decay\n",
    "    \n",
    "    while ep <= num_episodes:\n",
    "        action = agent.act(state) \n",
    "        \n",
    "        next_state, reward, is_done, _ = env.step(action)\n",
    "        buffer.push(state, action, reward, next_state, is_done)\n",
    "        \n",
    "        episode_rew += reward\n",
    "        state = next_state\n",
    "        num_iterations += 1\n",
    "        \n",
    "        if is_done == True:\n",
    "            #print(episode_rew)\n",
    "            episodes_rewards.append(episode_rew)\n",
    "            episode_rew = 0\n",
    "            ep += 1\n",
    "            state = env.reset()\n",
    "        \n",
    "        if len(buffer) > 100:\n",
    "            #print('AAAAAAAAAAAAA')\n",
    "            loss = Loss(agent, tg_agent, buffer, batch_size, device, optimizer)\n",
    "            losses.append(loss)\n",
    "            \n",
    "        if num_iterations % plot_every == 0:\n",
    "            #print(num_iterations)\n",
    "            plot(num_iterations, episodes_rewards, losses)\n",
    "            \n",
    "        if num_iterations % update_net_every == 0:\n",
    "            #print('UPDATE')\n",
    "            update(agent, tg_agent)\n",
    "            \n",
    "        if num_iterations % 40 == 0:\n",
    "            agent.reset_noise()\n",
    "            \n",
    "            tg_agent.reset_noise()\n",
    "            \n",
    "        ep+=1\n",
    "            "
   ]
  },
  {
   "cell_type": "code",
   "execution_count": 14,
   "metadata": {},
   "outputs": [],
   "source": [
    "# Instatiating Object\n",
    "\n",
    "agent = Agent(env.observation_space.shape, env.action_space.n, num_atoms, V_min, V_max, device).to(device)\n",
    "tg_agent = Agent(env.observation_space.shape, env.action_space.n, num_atoms, V_min, V_max, device).to(device)\n",
    "update(agent, tg_agent)\n",
    "optimizer = optim.Adam(agent.parameters(), lr = 0.00005)\n",
    "\n",
    "capacity = 100000\n",
    "batch_size = 32\n",
    "\n",
    "buffer = Buffer(capacity, batch_size)\n",
    "\n",
    "num_episodes = 250\n",
    "\n",
    "plot_every = 200\n",
    "update_net_every = 100"
   ]
  },
  {
   "cell_type": "code",
   "execution_count": 15,
   "metadata": {},
   "outputs": [
    {
     "data": {
      "image/png": "[encoded data removed]",
      "text/plain": [
       "<Figure size 1440x360 with 2 Axes>"
      ]
     },
     "metadata": {
      "needs_background": "light"
     },
     "output_type": "display_data"
    },
    {
     "ename": "KeyboardInterrupt",
     "evalue": "",
     "output_type": "error",
     "traceback": [
      "\u001b[0;31m---------------------------------------------------------------------------\u001b[0m",
      "\u001b[0;31mKeyboardInterrupt\u001b[0m                         Traceback (most recent call last)",
      "\u001b[0;32m<ipython-input-15-9a684d604b13>\u001b[0m in \u001b[0;36m<module>\u001b[0;34m\u001b[0m\n\u001b[0;32m----> 1\u001b[0;31m \u001b[0mtraining\u001b[0m\u001b[0;34m(\u001b[0m\u001b[0magent\u001b[0m\u001b[0;34m,\u001b[0m \u001b[0mtg_agent\u001b[0m\u001b[0;34m,\u001b[0m \u001b[0mbuffer\u001b[0m\u001b[0;34m,\u001b[0m \u001b[0menv\u001b[0m\u001b[0;34m,\u001b[0m \u001b[0mdevice\u001b[0m\u001b[0;34m,\u001b[0m \u001b[0;36m2000\u001b[0m\u001b[0;34m,\u001b[0m \u001b[0mbatch_size\u001b[0m\u001b[0;34m,\u001b[0m \u001b[0mplot_every\u001b[0m\u001b[0;34m,\u001b[0m \u001b[0mupdate_net_every\u001b[0m\u001b[0;34m)\u001b[0m\u001b[0;34m\u001b[0m\u001b[0;34m\u001b[0m\u001b[0m\n\u001b[0m",
      "\u001b[0;32m<ipython-input-13-c283ac4e59df>\u001b[0m in \u001b[0;36mtraining\u001b[0;34m(agent, tg_agent, buffer, env, device, num_episodes, batch_size, plot_every, update_net_every)\u001b[0m\n\u001b[1;32m     27\u001b[0m         \u001b[0;32mif\u001b[0m \u001b[0mlen\u001b[0m\u001b[0;34m(\u001b[0m\u001b[0mbuffer\u001b[0m\u001b[0;34m)\u001b[0m \u001b[0;34m>\u001b[0m \u001b[0;36m100\u001b[0m\u001b[0;34m:\u001b[0m\u001b[0;34m\u001b[0m\u001b[0;34m\u001b[0m\u001b[0m\n\u001b[1;32m     28\u001b[0m             \u001b[0;31m#print('AAAAAAAAAAAAA')\u001b[0m\u001b[0;34m\u001b[0m\u001b[0;34m\u001b[0m\u001b[0;34m\u001b[0m\u001b[0m\n\u001b[0;32m---> 29\u001b[0;31m             \u001b[0mloss\u001b[0m \u001b[0;34m=\u001b[0m \u001b[0mLoss\u001b[0m\u001b[0;34m(\u001b[0m\u001b[0magent\u001b[0m\u001b[0;34m,\u001b[0m \u001b[0mtg_agent\u001b[0m\u001b[0;34m,\u001b[0m \u001b[0mbuffer\u001b[0m\u001b[0;34m,\u001b[0m \u001b[0mbatch_size\u001b[0m\u001b[0;34m,\u001b[0m \u001b[0mdevice\u001b[0m\u001b[0;34m,\u001b[0m \u001b[0moptimizer\u001b[0m\u001b[0;34m)\u001b[0m\u001b[0;34m\u001b[0m\u001b[0;34m\u001b[0m\u001b[0m\n\u001b[0m\u001b[1;32m     30\u001b[0m             \u001b[0mlosses\u001b[0m\u001b[0;34m.\u001b[0m\u001b[0mappend\u001b[0m\u001b[0;34m(\u001b[0m\u001b[0mloss\u001b[0m\u001b[0;34m)\u001b[0m\u001b[0;34m\u001b[0m\u001b[0;34m\u001b[0m\u001b[0m\n\u001b[1;32m     31\u001b[0m \u001b[0;34m\u001b[0m\u001b[0m\n",
      "\u001b[0;32m<ipython-input-9-0a9e2eb944fe>\u001b[0m in \u001b[0;36mLoss\u001b[0;34m(agent, tg_agent, buffer, beta, device, optimizer)\u001b[0m\n\u001b[1;32m      4\u001b[0m     \u001b[0mstates\u001b[0m \u001b[0;34m=\u001b[0m \u001b[0mtorch\u001b[0m\u001b[0;34m.\u001b[0m\u001b[0mFloatTensor\u001b[0m\u001b[0;34m(\u001b[0m\u001b[0mstates\u001b[0m\u001b[0;34m)\u001b[0m\u001b[0;34m.\u001b[0m\u001b[0mto\u001b[0m\u001b[0;34m(\u001b[0m\u001b[0mdevice\u001b[0m\u001b[0;34m)\u001b[0m\u001b[0;34m\u001b[0m\u001b[0;34m\u001b[0m\u001b[0m\n\u001b[1;32m      5\u001b[0m     \u001b[0mactions\u001b[0m \u001b[0;34m=\u001b[0m \u001b[0mtorch\u001b[0m\u001b[0;34m.\u001b[0m\u001b[0mLongTensor\u001b[0m\u001b[0;34m(\u001b[0m\u001b[0mactions\u001b[0m\u001b[0;34m)\u001b[0m\u001b[0;34m.\u001b[0m\u001b[0mto\u001b[0m\u001b[0;34m(\u001b[0m\u001b[0mdevice\u001b[0m\u001b[0;34m)\u001b[0m\u001b[0;34m\u001b[0m\u001b[0;34m\u001b[0m\u001b[0m\n\u001b[0;32m----> 6\u001b[0;31m     \u001b[0mnext_states\u001b[0m \u001b[0;34m=\u001b[0m \u001b[0mtorch\u001b[0m\u001b[0;34m.\u001b[0m\u001b[0mFloatTensor\u001b[0m\u001b[0;34m(\u001b[0m\u001b[0mnext_states\u001b[0m\u001b[0;34m)\u001b[0m\u001b[0;34m.\u001b[0m\u001b[0mto\u001b[0m\u001b[0;34m(\u001b[0m\u001b[0mdevice\u001b[0m\u001b[0;34m)\u001b[0m\u001b[0;34m\u001b[0m\u001b[0;34m\u001b[0m\u001b[0m\n\u001b[0m\u001b[1;32m      7\u001b[0m     \u001b[0mrewards\u001b[0m \u001b[0;34m=\u001b[0m \u001b[0mtorch\u001b[0m\u001b[0;34m.\u001b[0m\u001b[0mFloatTensor\u001b[0m\u001b[0;34m(\u001b[0m\u001b[0mrewards\u001b[0m\u001b[0;34m)\u001b[0m\u001b[0;34m.\u001b[0m\u001b[0mto\u001b[0m\u001b[0;34m(\u001b[0m\u001b[0mdevice\u001b[0m\u001b[0;34m)\u001b[0m\u001b[0;34m\u001b[0m\u001b[0;34m\u001b[0m\u001b[0m\n\u001b[1;32m      8\u001b[0m     \u001b[0mis_dones\u001b[0m \u001b[0;34m=\u001b[0m \u001b[0mtorch\u001b[0m\u001b[0;34m.\u001b[0m\u001b[0mFloatTensor\u001b[0m\u001b[0;34m(\u001b[0m\u001b[0mis_dones\u001b[0m\u001b[0;34m)\u001b[0m\u001b[0;34m.\u001b[0m\u001b[0mto\u001b[0m\u001b[0;34m(\u001b[0m\u001b[0mdevice\u001b[0m\u001b[0;34m)\u001b[0m\u001b[0;34m\u001b[0m\u001b[0;34m\u001b[0m\u001b[0m\n",
      "\u001b[0;31mKeyboardInterrupt\u001b[0m: "
     ]
    }
   ],
   "source": [
    "training(agent, tg_agent, buffer, env, device, 2000, batch_size, plot_every, update_net_every)"
   ]
  },
  {
   "cell_type": "code",
   "execution_count": null,
   "metadata": {},
   "outputs": [],
   "source": []
  },
  {
   "cell_type": "code",
   "execution_count": null,
   "metadata": {},
   "outputs": [],
   "source": []
  }
 ],
 "metadata": {
  "kernelspec": {
   "display_name": "Python 3",
   "language": "python",
   "name": "python3"
  },
  "language_info": {
   "codemirror_mode": {
    "name": "ipython",
    "version": 3
   },
   "file_extension": ".py",
   "mimetype": "text/x-python",
   "name": "python",
   "nbconvert_exporter": "python",
   "pygments_lexer": "ipython3",
   "version": "3.8.5"
  }
 },
 "nbformat": 4,
 "nbformat_minor": 4
}
