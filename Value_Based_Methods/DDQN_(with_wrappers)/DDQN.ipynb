{
 "cells": [
  {
   "cell_type": "markdown",
   "metadata": {},
   "source": [
    "# Introduction\n",
    "\n",
    "In this code we are gonna write DDQN, which is an extension of DQN that tries to minimize the over-estimation of *state/values* which is typical of the DQN algorithm."
   ]
  },
  {
   "cell_type": "markdown",
   "metadata": {},
   "source": [
    "## Importing Section"
   ]
  },
  {
   "cell_type": "code",
   "execution_count": 1,
   "metadata": {},
   "outputs": [],
   "source": [
    "import torch\n",
    "import torch.nn as nn\n",
    "import torch.nn.functional as F\n",
    "import torch.optim as optim\n",
    "\n",
    "import numpy as np\n",
    "import math, random\n",
    "import matplotlib.pyplot as plt\n",
    "\n",
    "import gym\n",
    "\n",
    "from IPython.display import clear_output\n",
    "from collections import deque\n",
    "from wrap import make_atari, wrap_deepmind, wrap_pytorch"
   ]
  },
  {
   "cell_type": "code",
   "execution_count": 2,
   "metadata": {},
   "outputs": [],
   "source": [
    "env_id = \"PongNoFrameskip-v4\"\n",
    "env    = make_atari(env_id)\n",
    "env    = wrap_deepmind(env)\n",
    "env    = wrap_pytorch(env)\n",
    "env    = gym.wrappers.Monitor(env, \"./vid\" , video_callable=lambda episode_id: (episode_id+1)%10==0, force = True)"
   ]
  },
  {
   "cell_type": "markdown",
   "metadata": {},
   "source": [
    "## Device selection"
   ]
  },
  {
   "cell_type": "code",
   "execution_count": 3,
   "metadata": {},
   "outputs": [
    {
     "data": {
      "text/plain": [
       "device(type='cuda', index=0)"
      ]
     },
     "execution_count": 3,
     "metadata": {},
     "output_type": "execute_result"
    }
   ],
   "source": [
    "device = torch.device('cuda:0' if torch.cuda.is_available() else 'cpu')\n",
    "device"
   ]
  },
  {
   "cell_type": "markdown",
   "metadata": {},
   "source": [
    "## Buffer"
   ]
  },
  {
   "cell_type": "code",
   "execution_count": 4,
   "metadata": {},
   "outputs": [],
   "source": [
    "class Buffer():\n",
    "    def __init__(self, capacity):\n",
    "        self.capacity = capacity\n",
    "        self.buffer = deque(maxlen = capacity)\n",
    "    \n",
    "    def push(self, state, action, reward, next_state, is_done):\n",
    "        state = np.expand_dims(state, 0)\n",
    "        next_state = np.expand_dims(next_state, 0)\n",
    "        \n",
    "        self.buffer.append((state, action, reward, next_state, is_done))\n",
    "    \n",
    "    def sample(self, batch_size):\n",
    "        states, actions, rewards, next_states, is_dones = zip(*random.sample(self.buffer, batch_size))\n",
    "        \n",
    "        states = np.concatenate(states)\n",
    "        next_states = np.concatenate(next_states)\n",
    "        \n",
    "        return states, actions, rewards, next_states, is_dones\n",
    "    \n",
    "    def __len__(self):\n",
    "        return len(self.buffer)"
   ]
  },
  {
   "cell_type": "markdown",
   "metadata": {},
   "source": [
    "## Epsilon-Decay"
   ]
  },
  {
   "cell_type": "code",
   "execution_count": 5,
   "metadata": {},
   "outputs": [],
   "source": [
    "def epsilon_decay_f(iteration, epsilon_init = 1.0, epsilon_final = 0.01, decay_every = 500):\n",
    "    epsilon = epsilon_final - (epsilon_final - epsilon_init)*math.exp(-1. * iteration/decay_every)\n",
    "    return epsilon"
   ]
  },
  {
   "cell_type": "markdown",
   "metadata": {},
   "source": [
    "## Loss Function"
   ]
  },
  {
   "cell_type": "code",
   "execution_count": 6,
   "metadata": {},
   "outputs": [],
   "source": [
    "def Loss(agent, tg_agent, buffer, batch_size, device, optimizer):\n",
    "    states, actions, rewards, next_states, is_dones = buffer.sample(batch_size)\n",
    "    \n",
    "    states = torch.FloatTensor(states).to(device)\n",
    "    actions = torch.LongTensor(actions).to(device)\n",
    "    rewards = torch.FloatTensor(rewards).to(device)\n",
    "    is_dones = torch.FloatTensor(is_dones).to(device)\n",
    "    next_states = torch.FloatTensor(next_states).to(device)\n",
    "    \n",
    "    # Io devo selezionarli con agent e valutarli con tg\n",
    "    \n",
    "    next_Q_actions = agent(next_states).max(1)[1].detach()\n",
    "    next_Q_values = tg_agent(next_states)\n",
    "    next_Q_values = next_Q_values.gather(1, next_Q_actions.unsqueeze(1)).squeeze(1)\n",
    "    \n",
    "    Q_values = agent(states)\n",
    "    Q_values = Q_values.gather(1, actions.unsqueeze(1)).squeeze(1)\n",
    "    \n",
    "    bootstrap = rewards + 0.99 * next_Q_values * (1.0 - is_dones)\n",
    "    \n",
    "    loss = (bootstrap.detach() - Q_values).pow(2).mean()\n",
    "    \n",
    "    optimizer.zero_grad()\n",
    "    loss.backward()\n",
    "    optimizer.step()\n",
    "    \n",
    "    return loss   "
   ]
  },
  {
   "cell_type": "markdown",
   "metadata": {},
   "source": [
    "## Update Function"
   ]
  },
  {
   "cell_type": "code",
   "execution_count": 7,
   "metadata": {},
   "outputs": [],
   "source": [
    "def update(current_model, target_model):\n",
    "    target_model.load_state_dict(current_model.state_dict())"
   ]
  },
  {
   "cell_type": "markdown",
   "metadata": {},
   "source": [
    "## Agent "
   ]
  },
  {
   "cell_type": "code",
   "execution_count": 8,
   "metadata": {},
   "outputs": [],
   "source": [
    "class Agent(nn.Module):\n",
    "    def __init__(self, obs_space, action_space, device):\n",
    "        super(Agent, self).__init__()\n",
    "        self.obs_space = obs_space\n",
    "        self.action_space = action_space\n",
    "        self.num_channels_in = self.obs_space[0]\n",
    "        self.device = device\n",
    "        \n",
    "        self.img_extractor = nn.Sequential(\n",
    "            nn.Conv2d(self.num_channels_in, 32, kernel_size = 8, stride = 4),\n",
    "            nn.ReLU(),\n",
    "            nn.Conv2d(32, 64, kernel_size = 4, stride = 2),\n",
    "            nn.ReLU(),\n",
    "            nn.Conv2d(64, 64, kernel_size = 3, stride = 1), \n",
    "            nn.ReLU())\n",
    "        \n",
    "        self.fc = nn.Sequential(\n",
    "            nn.Linear(self.get_size_after_img_ext(), 512),\n",
    "            nn.ReLU(),\n",
    "            nn.Linear(512, self.action_space))\n",
    "        \n",
    "    def forward(self, state):\n",
    "        state = self.img_extractor(state)\n",
    "        state = state.view(state.size(0), -1)\n",
    "        output = self.fc(state)\n",
    "        return output\n",
    "        \n",
    "    def get_size_after_img_ext(self):\n",
    "        example_img = torch.zeros(1, *self.obs_space)\n",
    "        shape_after_img_ext = self.img_extractor(example_img)\n",
    "        #print(shape_after_img_ext.size())\n",
    "        size_after_img_ext = np.prod(shape_after_img_ext.size())\n",
    "        return size_after_img_ext\n",
    "    \n",
    "    def act(self, state, epsilon):\n",
    "        if random.random()<epsilon:\n",
    "            action = random.randrange(self.action_space)\n",
    "        else:\n",
    "            state = torch.FloatTensor(state).unsqueeze(0).to(self.device)       \n",
    "            q_value = self.forward(state)\n",
    "            action = q_value.max(1)[1].cpu().numpy()[0]\n",
    "            #print(action.shape)\n",
    "            #print(action)\n",
    "        return action\n",
    "    \n",
    "    def play(self, state):\n",
    "        # Playing greedy\n",
    "        \n",
    "        while True:\n",
    "            state = torch.FloatTensor(state).unsqueeze(0).to(device)\n",
    "            output = self.forward(state)\n",
    "            action = output.max(1)[1].detach().cpu().numpy()[0]\n",
    "            next_state, reward, is_done, _ = env.step(action)\n",
    "            \n",
    "            if is_done == True:\n",
    "                break"
   ]
  },
  {
   "cell_type": "markdown",
   "metadata": {},
   "source": [
    "## Plotting"
   ]
  },
  {
   "cell_type": "code",
   "execution_count": 9,
   "metadata": {},
   "outputs": [],
   "source": [
    "def plot(frame_idx, rewards, losses):\n",
    "    clear_output(True)\n",
    "    plt.figure(figsize=(20,5))\n",
    "    plt.subplot(131)\n",
    "    plt.title('frame %s. reward: %s' % (frame_idx, np.mean(rewards[-10:])))\n",
    "    plt.plot(rewards)\n",
    "    plt.subplot(132)\n",
    "    plt.title('loss')\n",
    "    plt.plot(losses)\n",
    "    plt.show()"
   ]
  },
  {
   "cell_type": "code",
   "execution_count": 10,
   "metadata": {},
   "outputs": [],
   "source": [
    "# Instatiating Object\n",
    "\n",
    "agent = Agent(env.observation_space.shape, env.action_space.n, device).to(device)\n",
    "tg_agent = Agent(env.observation_space.shape, env.action_space.n, device).to(device)\n",
    "update(agent, tg_agent)\n",
    "optimizer = optim.Adam(agent.parameters(), lr = 0.0001)\n",
    "\n",
    "capacity = 100000\n",
    "buffer = Buffer(capacity)\n",
    "\n",
    "batch_size = 32\n",
    "num_episodes = 200\n",
    "\n",
    "plot_every = 200\n",
    "update_net_every = 100"
   ]
  },
  {
   "cell_type": "markdown",
   "metadata": {},
   "source": [
    "## Training Function"
   ]
  },
  {
   "cell_type": "code",
   "execution_count": 11,
   "metadata": {},
   "outputs": [],
   "source": [
    "# Needed \n",
    "\n",
    "# num_episodes, epsilon_decay, agent, buffer, initial_replay, update_f, tg_agent, \n",
    "# plot every, update_every, update_net\n",
    "\n",
    "# ad update_f far passare, buffer, agent, tg_agent\n",
    "\n",
    "# To Do \n",
    "\n",
    "# verificare come buffer prende i valori di push\n",
    "\n",
    "def training ( agent, tg_agent, buffer, env, device, num_episodes, batch_size, plot_every, update_net_every ):\n",
    "    losses = []\n",
    "    episodes_rewards = []\n",
    "    episode_rew = 0\n",
    "    ep = 1\n",
    "    \n",
    "    state = env.reset()\n",
    "    num_iterations = 0 # Useful for epsilon_decay\n",
    "    \n",
    "    while ep <= num_episodes:\n",
    "        epsilon = epsilon_decay_f(num_iterations)\n",
    "        action = agent.act(state, epsilon) \n",
    "        \n",
    "        next_state, reward, is_done, _ = env.step(action)\n",
    "        buffer.push(state, action, reward, next_state, is_done)\n",
    "        \n",
    "        episode_rew += reward\n",
    "        state = next_state\n",
    "        num_iterations += 1\n",
    "        \n",
    "        if is_done == True:\n",
    "            #print(episode_rew)\n",
    "            episodes_rewards.append(episode_rew)\n",
    "            episode_rew = 0\n",
    "            ep += 1\n",
    "            state = env.reset()\n",
    "        \n",
    "        if len(buffer) > 100:\n",
    "            loss = Loss(agent, tg_agent, buffer, batch_size, device, optimizer)\n",
    "            losses.append(loss)\n",
    "            \n",
    "        if num_iterations % plot_every == 0:\n",
    "            #print(num_iterations)\n",
    "            plot(num_iterations, episodes_rewards, losses)\n",
    "            \n",
    "        if num_iterations % update_net_every == 0:\n",
    "            #print('UPDATE')\n",
    "            update(agent, tg_agent)\n",
    "            \n",
    "       "
   ]
  },
  {
   "cell_type": "code",
   "execution_count": 12,
   "metadata": {},
   "outputs": [
    {
     "data": {
      "image/png": "[encoded data removed]",
      "text/plain": [
       "<Figure size 1440x360 with 2 Axes>"
      ]
     },
     "metadata": {
      "needs_background": "light"
     },
     "output_type": "display_data"
    }
   ],
   "source": [
    "training(agent, tg_agent, buffer, env, device, num_episodes, batch_size, plot_every, update_net_every)"
   ]
  }
 ],
 "metadata": {
  "kernelspec": {
   "display_name": "Python 3",
   "language": "python",
   "name": "python3"
  },
  "language_info": {
   "codemirror_mode": {
    "name": "ipython",
    "version": 3
   },
   "file_extension": ".py",
   "mimetype": "text/x-python",
   "name": "python",
   "nbconvert_exporter": "python",
   "pygments_lexer": "ipython3",
   "version": "3.8.5"
  }
 },
 "nbformat": 4,
 "nbformat_minor": 4
}
