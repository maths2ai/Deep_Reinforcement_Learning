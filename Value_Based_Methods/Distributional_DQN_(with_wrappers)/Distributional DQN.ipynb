{
 "cells": [
  {
   "cell_type": "markdown",
   "metadata": {},
   "source": [
    "# Idea\n",
    "The ideao of the algorithm is to conider the probability distribution of the values linked to $(s,a)$ more than $Q(s,a)$ itself.\n",
    "\n",
    "To be more precise let's assume $Q(s,a)$ might get values from 0 to 100. We can divide these values in buckets of ten and asking what is the probability of choosing each return bucket.\n",
    "For example the probabilities might be p=(0, 0.1, 0.2, 0, 0.4, 0, 0.1, 0.1, 0, 0.1).\n",
    "We can say we are interested in learning the probability distribution p for the given couple (s,a), since we can re-obtain $Q(s,a)$ as \n",
    "$$Q(s,a) = \\mathbb{E}_p value\\_buckets.$$\n",
    "\n",
    "\n",
    "Distributional DQN is therefore a straight generalization of DQN"
   ]
  },
  {
   "cell_type": "markdown",
   "metadata": {},
   "source": [
    "## Importing Section"
   ]
  },
  {
   "cell_type": "code",
   "execution_count": 1,
   "metadata": {},
   "outputs": [],
   "source": [
    "import torch\n",
    "import torch.nn as nn\n",
    "import torch.optim as optim\n",
    "import torch.nn.functional as F\n",
    "\n",
    "import math, random\n",
    "import numpy as np\n",
    "import matplotlib.pyplot as plt \n",
    "from IPython.display import clear_output\n",
    "\n",
    "import gym\n",
    "\n",
    "from  wrap import make_atari, wrap_deepmind, wrap_pytorch\n",
    "from collections import deque"
   ]
  },
  {
   "cell_type": "markdown",
   "metadata": {},
   "source": [
    "## Some Hyper-Parameters "
   ]
  },
  {
   "cell_type": "code",
   "execution_count": 2,
   "metadata": {},
   "outputs": [],
   "source": [
    "V_min = -10\n",
    "V_max = 10\n",
    "num_atoms = 51\n",
    "update_plot_every = 10000\n",
    "update_net_every = 1000"
   ]
  },
  {
   "cell_type": "markdown",
   "metadata": {},
   "source": [
    "## Device Selection"
   ]
  },
  {
   "cell_type": "code",
   "execution_count": 3,
   "metadata": {},
   "outputs": [
    {
     "data": {
      "text/plain": [
       "device(type='cuda', index=0)"
      ]
     },
     "execution_count": 3,
     "metadata": {},
     "output_type": "execute_result"
    }
   ],
   "source": [
    "device = torch.device('cuda:0' if torch.cuda.is_available else 'cpu')\n",
    "device"
   ]
  },
  {
   "cell_type": "markdown",
   "metadata": {},
   "source": [
    "## Instatiating environment"
   ]
  },
  {
   "cell_type": "code",
   "execution_count": 4,
   "metadata": {},
   "outputs": [],
   "source": [
    "env_id = \"PongNoFrameskip-v4\"\n",
    "env = make_atari(env_id)\n",
    "env = wrap_deepmind(env)\n",
    "env = wrap_pytorch(env)\n",
    "#env = gym.wrappers.Monitor(env, \"./vid\" , video_callable=lambda episode_id: (episode_id+1)%10==0, force = True)"
   ]
  },
  {
   "cell_type": "markdown",
   "metadata": {},
   "source": [
    "## Epsilon-Decay"
   ]
  },
  {
   "cell_type": "code",
   "execution_count": 5,
   "metadata": {},
   "outputs": [],
   "source": [
    "def epsilon_decay(frame, epsilon_init = 1.0, epsilon_final = 0.1, epsilon_d = 500):\n",
    "    decay = np.float(frame)/ epsilon_d\n",
    "    epsilon =  epsilon_final + (epsilon_init - epsilon_final)*math.exp(-1 * decay)\n",
    "    return epsilon"
   ]
  },
  {
   "cell_type": "markdown",
   "metadata": {},
   "source": [
    "## Buffer"
   ]
  },
  {
   "cell_type": "code",
   "execution_count": 6,
   "metadata": {},
   "outputs": [],
   "source": [
    "class Buffer():\n",
    "    def __init__(self, capacity):\n",
    "        self.capacity = capacity\n",
    "        self.buffer = deque(maxlen = capacity)\n",
    "    \n",
    "    def push(self, state, action, reward, next_state, is_done):\n",
    "        # np.expand_dims along axis 0, is\n",
    "        state = np.expand_dims(state, 0)\n",
    "        next_state = np.expand_dims(next_state, 0)\n",
    "        \n",
    "        self.buffer.append((state, action, reward, next_state, is_done))\n",
    "        \n",
    "    def sample(self, batch_size):\n",
    "        states, actions, rewards, next_states, is_dones = zip(*random.sample(self.buffer, batch_size))\n",
    "        states = np.concatenate(states)\n",
    "        next_states = np.concatenate(next_states)\n",
    "        \n",
    "        return states, actions, rewards, next_states, is_dones\n",
    "                                                    \n",
    "    \n",
    "    def __len__(self):\n",
    "        return len(self.buffer)"
   ]
  },
  {
   "cell_type": "markdown",
   "metadata": {},
   "source": [
    "## Update Function \n",
    "\n",
    "Used to learn the new prob distribution. \n",
    "Takes agent, buffer and few others inputs to compute the new probability distribution of the state action $(s,a)$ and update the old one.\n",
    "\n",
    "The computation of the new probability distribution is done via the **projection_distribution** function below."
   ]
  },
  {
   "cell_type": "code",
   "execution_count": 7,
   "metadata": {},
   "outputs": [],
   "source": [
    "def update(batch_size, buffer, agent, tg_agent, device):\n",
    "    # Usato buffer e batch_size\n",
    "    states, actions, rewards, next_states, is_dones = buffer.sample(batch_size)\n",
    "    \n",
    "    states = torch.FloatTensor(np.float32(states)).to(device)\n",
    "    actions = torch.LongTensor(actions).to(device)\n",
    "    \n",
    "    rewards = torch.FloatTensor(rewards).to(device)\n",
    "    next_states = torch.FloatTensor(np.float32(next_states)).to(device)\n",
    "    is_dones = torch.FloatTensor(np.float32(is_dones)).to(device)\n",
    "    \n",
    "    # Next line computes the new probability distribution we should learn (bootstrap)\n",
    "    # for our states 'states' and actions 'actions' couples\n",
    "    \n",
    "    new_dist = projection_distribution(next_states, rewards, is_dones, tg_agent)\n",
    "    \n",
    "    actual_dist = agent(states)\n",
    "    \n",
    "    # Next 2 lines selct the probability distributions we want to improve using new_dist\n",
    "    actions = actions.unsqueeze(1).unsqueeze(1).expand(batch_size, 1, num_atoms)\n",
    "    actual_dist = actual_dist.gather(1, actions).squeeze(1)\n",
    "    \n",
    "    actual_dist.data.clamp_(0.01, 0.99)\n",
    "    \n",
    "    # Next line considers categorical cross entropy \n",
    "    loss = - (new_dist * actual_dist.log()).sum(1).mean()\n",
    "        \n",
    "    optimizer.zero_grad()\n",
    "    loss.backward()\n",
    "    optimizer.step()\n",
    "    \n",
    "    return loss"
   ]
  },
  {
   "cell_type": "markdown",
   "metadata": {},
   "source": [
    "## Projection Distribution function "
   ]
  },
  {
   "cell_type": "code",
   "execution_count": 8,
   "metadata": {},
   "outputs": [],
   "source": [
    "def projection_distribution(next_states, rewards, is_dones, tg_agent):\n",
    "    \n",
    "    # delta_z is useful in few lines. Skip it for the moment\n",
    "    delta_z = float(V_max - V_min)/(num_atoms - 1)\n",
    "    \n",
    "    # Computing all the possible values (intended as the values a couple (s,a) can receive)\n",
    "    # Notice they are divided into bukets as the atoms (in a nutshell we do\n",
    "    # a discretization)\n",
    "    support = torch.linspace(V_min, V_max, num_atoms).to(device)\n",
    "    \n",
    "    # In the next line we compute the next probability distribution and we multiply it\n",
    "    # elemnt-wise against the values 'support'.\n",
    "    # Substantially, if the probability dist is [0.2, 0.7, 0.1] and the support is \n",
    "    # [2, 3, 4] we get value_dist = [0.2*2, 0.7*3, 0.1*4]\n",
    "    next_dist = tg_agent(next_states) * support\n",
    "    \n",
    "    # In the next line we compute the good old Q(s,a). Simply summing value_dist.\n",
    "    next_actions = next_dist.sum(2).max(1)[1]\n",
    "    next_actions = next_actions.unsqueeze(1).unsqueeze(1).expand(next_dist.size(0), 1, next_dist.size(2))\n",
    "    next_dist = next_dist.gather(1, next_actions).squeeze(1)\n",
    "    \n",
    "    rewards = rewards.unsqueeze(1).expand_as(next_dist)\n",
    "    is_dones = is_dones.unsqueeze(1).expand_as(next_dist)\n",
    "    support = support.unsqueeze(0).expand_as(next_dist)\n",
    "    \n",
    "    Tz = rewards + (1.0 - is_dones) * 0.99 * support\n",
    "    Tz = Tz.clamp(min = V_min, max = V_max)\n",
    "    # Next line is used to understand in which value bucket we are. \n",
    "    b = (Tz-V_min) / delta_z\n",
    "    \n",
    "    # To explain the next lines, let's consider an example. Let's assume the values are ranging in [2, 3, 4]. \n",
    "    # Tz = 3.2 and thus (Tz - V_min) is equal to 1.2, with b = 1 (in our example, the atoms are 3).\n",
    "    # At this point, we would like to take the probability distribution that corresponds to the index 1.2 \n",
    "    # in array [0.2, 0.7, 0.1] and project it back. This probability is equal to 0.1. But the fact the value \n",
    "    # we are considering is not precisely 3 creates some ambiguities in the projection. 3.2 is inside index 2,\n",
    "    # but closer to index 1 of the array [2, 3, 4]. Shall we project 0.1 back to index 2 or 1? We will thus project \n",
    "    # proportionally: we take 1.2-1 = 0.2 and project the20 percent of the probability 0.1 into the bucket 1, and the other 80 % into bucket 2. \n",
    "    # This is the content of the next lines.\n",
    "    \n",
    "    l = b.floor().long()\n",
    "    u = b.ceil().long()\n",
    "    \n",
    "    # Next line will be clear at the end of the code. \n",
    "    offset = torch.linspace(0, (batch_size - 1) * num_atoms, batch_size).long().unsqueeze(1).expand(batch_size, num_atoms).to(device)\n",
    "    \n",
    "    # TO-DO Check this better\n",
    "    proj_dist = torch.zeros(next_dist.size()).to(device)\n",
    "    proj_dist.view(-1).index_add_(0, (l+offset).view(-1), (next_dist * (u.float() -b)).view(-1))\n",
    "    proj_dist.view(-1).index_add_(0, (u+offset).view(-1), (next_dist * (b - l.float())).view(-1))\n",
    "    \n",
    "    return proj_dist"
   ]
  },
  {
   "cell_type": "markdown",
   "metadata": {},
   "source": [
    "## Hard_Update"
   ]
  },
  {
   "cell_type": "code",
   "execution_count": 9,
   "metadata": {},
   "outputs": [],
   "source": [
    "def hard_update(net, tg_net):\n",
    "    tg_net.load_state_dict(net.state_dict())"
   ]
  },
  {
   "cell_type": "markdown",
   "metadata": {},
   "source": [
    "## Distributional Model"
   ]
  },
  {
   "cell_type": "code",
   "execution_count": 10,
   "metadata": {},
   "outputs": [],
   "source": [
    "class DistributionalDQN(nn.Module):\n",
    "    def __init__(self, observation_space, action_space, num_atoms, V_min, V_max):\n",
    "        super(DistributionalDQN, self).__init__()\n",
    "        \n",
    "        self.observation_space = observation_space # This comes in the shape chanell x height x width)\n",
    "        self.action_space = action_space\n",
    "        self.num_atoms = num_atoms\n",
    "        self.V_min = V_min\n",
    "        self.V_max = V_max\n",
    "        \n",
    "        # Next is the usual feature extractor from images\n",
    "        self.feat_extractor = nn.Sequential(\n",
    "            nn.Conv2d(self.observation_space[0], 32, kernel_size = 8, stride = 4),\n",
    "            nn.ReLU(),\n",
    "            nn.Conv2d(32, 64, kernel_size = 4, stride = 2),\n",
    "            nn.ReLU(),\n",
    "            nn.Conv2d(64, 64, kernel_size = 3, stride = 1),\n",
    "            nn.ReLU()\n",
    "        )\n",
    "        \n",
    "        self.linear1 = nn.Linear(self.get_size_images(), 512)\n",
    "        #self.bn1 = nn.BatchNorm1d(512)\n",
    "        self.linear2 = nn.Linear(512, self.action_space*num_atoms) # Notice, here we have to consider all the possible probablity outcomes per actions (these are the so called atoms)\n",
    "        \n",
    "    def get_size_images(self):\n",
    "        fake_image = torch.ones(self.observation_space).unsqueeze(0)\n",
    "        size = self.feat_extractor(fake_image).size()\n",
    "        dimension = np.prod(size)\n",
    "        return dimension\n",
    "    \n",
    "    def forward (self, state):\n",
    "        batch_size = state.size(0)\n",
    "        \n",
    "        state = state / 255.0\n",
    "        state = self.feat_extractor(state)\n",
    "        state = state.view(batch_size, -1)\n",
    "        state = F.relu(self.linear1(state))\n",
    "        state = F.softmax(self.linear2(state).view(-1, self.num_atoms)) # This is done in a way softmax operates per action in each batch. Which mean softmax is applied to create a probability distribution over the atoms\n",
    "        state = state.view(-1, self.action_space, self.num_atoms)\n",
    "        \n",
    "        return state\n",
    "    \n",
    "    def act(self, state, epsilon):\n",
    "        if random.random() < epsilon:\n",
    "            action = random.randrange(self.action_space)\n",
    "            return action\n",
    "        else:\n",
    "            state = state.unsqueeze(0)\n",
    "            prob_dist = self.forward(state).data.cpu() # These are the probability distributions per action\n",
    "            lin_spaced_values = torch.linspace(self.V_min, self.V_max, self.num_atoms)\n",
    "            weighted_average_values = prob_dist * lin_spaced_values\n",
    "            temp = weighted_average_values.sum(2)\n",
    "            action = temp.max(1)[1].numpy()[0] # The zero at the end is used just to extract the value inside the array. .max consider the maximum along the second axis and then returns where it is located\n",
    "            return action"
   ]
  },
  {
   "cell_type": "markdown",
   "metadata": {},
   "source": [
    "## Plotting function"
   ]
  },
  {
   "cell_type": "code",
   "execution_count": 11,
   "metadata": {},
   "outputs": [],
   "source": [
    "def plot(frame_idx, rewards, losses):\n",
    "    clear_output(True)\n",
    "    plt.figure(figsize=(20,5))\n",
    "    plt.subplot(131)\n",
    "    plt.title('frame %s. reward: %s' % (frame_idx, np.mean(rewards[-10:])))\n",
    "    plt.plot(rewards)\n",
    "    plt.subplot(132)\n",
    "    plt.title('loss')\n",
    "    plt.plot(losses)\n",
    "    plt.show()"
   ]
  },
  {
   "cell_type": "markdown",
   "metadata": {},
   "source": [
    "## Training"
   ]
  },
  {
   "cell_type": "code",
   "execution_count": 12,
   "metadata": {},
   "outputs": [],
   "source": [
    "def training(agent, tg_agent, buffer, env, device, num_episodes, batch_size, update_plot_every, update_net_every ):\n",
    "    losses = []\n",
    "    episodes_rewards = []\n",
    "    tot_iterations = 0\n",
    "    \n",
    "    for episode in range(1, num_episodes + 1):\n",
    "        episode_reward = 0\n",
    "        state = env.reset()\n",
    "        \n",
    "        while True:\n",
    "            # This is more or less like any DQN code\n",
    "            tot_iterations += 1\n",
    "            state = torch.FloatTensor(state).to(device)\n",
    "            epsilon = epsilon_decay(tot_iterations)\n",
    "            action = agent.act(state, epsilon)\n",
    "           \n",
    "            next_state, reward, is_done, _ = env.step(action)\n",
    "            episode_reward += reward\n",
    "            state = state.cpu().numpy()\n",
    "            buffer.push(state, action, reward, next_state, is_done)\n",
    "            state = next_state\n",
    "            \n",
    "            if is_done == True:\n",
    "                episodes_rewards.append(episode_reward)\n",
    "                episode_reward = 0\n",
    "                state = env.reset()\n",
    "                \n",
    "            if tot_iterations > 1000:\n",
    "                loss = update(batch_size, buffer, agent, tg_agent, device)\n",
    "                losses.append(loss)\n",
    "                \n",
    "            if tot_iterations % update_plot_every == 0:\n",
    "                plot(tot_iterations, episodes_rewards, losses)\n",
    "            \n",
    "            if tot_iterations % update_net_every == 0:\n",
    "                hard_update(agent, tg_agent)"
   ]
  },
  {
   "cell_type": "code",
   "execution_count": 13,
   "metadata": {},
   "outputs": [],
   "source": [
    "## Instatiating\n",
    "\n",
    "net = DistributionalDQN(env.observation_space.shape, env.action_space.n, num_atoms, V_min, V_max)\n",
    "\n",
    "tg_net = DistributionalDQN(env.observation_space.shape, env.action_space.n, num_atoms, V_min, V_max)\n",
    "\n",
    "net = net.to(device)\n",
    "tg_net = tg_net.to(device)\n",
    "\n",
    "optimizer = optim.Adam(net.parameters(), 0.0001)\n",
    "hard_update(net, tg_net)\n",
    "\n",
    "num_episodes = 100000\n",
    "batch_size = 32\n",
    "\n",
    "buffer = Buffer(1000000)"
   ]
  },
  {
   "cell_type": "code",
   "execution_count": null,
   "metadata": {},
   "outputs": [
    {
     "data": {
      "image/png": "[encoded data removed]",
      "text/plain": [
       "<Figure size 1440x360 with 2 Axes>"
      ]
     },
     "metadata": {
      "needs_background": "light"
     },
     "output_type": "display_data"
    }
   ],
   "source": [
    "training(net, tg_net, buffer, env, device, num_episodes, batch_size, update_plot_every, update_net_every )"
   ]
  }
 ],
 "metadata": {
  "kernelspec": {
   "display_name": "Python 3",
   "language": "python",
   "name": "python3"
  },
  "language_info": {
   "codemirror_mode": {
    "name": "ipython",
    "version": 3
   },
   "file_extension": ".py",
   "mimetype": "text/x-python",
   "name": "python",
   "nbconvert_exporter": "python",
   "pygments_lexer": "ipython3",
   "version": "3.8.5"
  }
 },
 "nbformat": 4,
 "nbformat_minor": 4
}
